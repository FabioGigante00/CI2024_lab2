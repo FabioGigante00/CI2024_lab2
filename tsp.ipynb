{
 "cells": [
  {
   "cell_type": "markdown",
   "metadata": {
    "vscode": {
     "languageId": "plaintext"
    }
   },
   "source": [
    "Copyright **`(c)`** 2024 Giovanni Squillero `<giovanni.squillero@polito.it>`  \n",
    "[`https://github.com/squillero/computational-intelligence`](https://github.com/squillero/computational-intelligence)  \n",
    "Free under certain conditions — see the [`license`](https://github.com/squillero/computational-intelligence/blob/master/LICENSE.md) for details.  "
   ]
  },
  {
   "cell_type": "code",
   "execution_count": null,
   "metadata": {},
   "outputs": [],
   "source": [
    "import logging\n",
    "from itertools import combinations\n",
    "import pandas as pd\n",
    "import numpy as np\n",
    "from geopy.distance import geodesic\n",
    "import networkx as nx\n",
    "\n",
    "from icecream import ic\n",
    "\n",
    "logging.basicConfig(level=logging.DEBUG)"
   ]
  },
  {
   "cell_type": "code",
   "execution_count": null,
   "metadata": {},
   "outputs": [],
   "source": [
    "CITIES = pd.read_csv('cities/italy.csv', header=None, names=['name', 'lat', 'lon'])\n",
    "DIST_MATRIX = np.zeros((len(CITIES), len(CITIES)))\n",
    "for c1, c2 in combinations(CITIES.itertuples(), 2):\n",
    "    DIST_MATRIX[c1.Index, c2.Index] = DIST_MATRIX[c2.Index, c1.Index] = geodesic(\n",
    "        (c1.lat, c1.lon), (c2.lat, c2.lon)\n",
    "    ).km\n",
    "CITIES.head()"
   ]
  },
  {
   "cell_type": "markdown",
   "metadata": {},
   "source": [
    "## Lab2 - TSP\n",
    "\n",
    "https://www.wolframcloud.com/obj/giovanni.squillero/Published/Lab2-tsp.nb"
   ]
  },
  {
   "cell_type": "code",
   "execution_count": null,
   "metadata": {},
   "outputs": [],
   "source": [
    "def tsp_cost(tsp):\n",
    "    assert tsp[0] == tsp[-1]\n",
    "    assert set(tsp) == set(range(len(CITIES)))\n",
    "\n",
    "    tot_cost = 0\n",
    "    for c1, c2 in zip(tsp, tsp[1:]):\n",
    "        tot_cost += DIST_MATRIX[c1, c2]\n",
    "    return tot_cost"
   ]
  },
  {
   "cell_type": "markdown",
   "metadata": {},
   "source": [
    "## First Greedy Algorithm"
   ]
  },
  {
   "cell_type": "code",
   "execution_count": null,
   "metadata": {},
   "outputs": [],
   "source": [
    "visited = np.full(len(CITIES), False)\n",
    "dist = DIST_MATRIX.copy()\n",
    "city = 0\n",
    "visited[city] = True\n",
    "tsp = list()\n",
    "tsp.append(int(city))\n",
    "#FROM the starting city, that is the first city, we will find the closest city and add it to the path, iteratively\n",
    "# until all cities are visited\n",
    "while not np.all(visited):\n",
    "    dist[:, city] = np.inf\n",
    "    closest = np.argmin(dist[city])\n",
    "    logging.debug(\n",
    "        f\"step: {CITIES.at[city,'name']} -> {CITIES.at[closest,'name']} ({DIST_MATRIX[city,closest]:.2f}km)\"\n",
    "    )\n",
    "    visited[closest] = True\n",
    "    city = closest\n",
    "    tsp.append(int(city))\n",
    "logging.debug(\n",
    "    f\"step: {CITIES.at[tsp[-1],'name']} -> {CITIES.at[tsp[0],'name']} ({DIST_MATRIX[tsp[-1],tsp[0]]:.2f}km)\"\n",
    ")\n",
    "tsp.append(tsp[0])\n",
    "\n",
    "\n",
    "logging.info(f\"result: Found a path of {len(tsp)-1} steps, total length {tsp_cost(tsp):.2f}km\")"
   ]
  },
  {
   "cell_type": "markdown",
   "metadata": {},
   "source": [
    "## Hill Climbing with Mutation and Simulated Annealing\n"
   ]
  },
  {
   "cell_type": "code",
   "execution_count": null,
   "metadata": {},
   "outputs": [],
   "source": [
    "#GENOTYPE: a list of integers, each representing a city\n",
    "#PHENOTYPE: the path that visits all cities in the order specified by the genotype\n",
    "\n",
    "def genotype_to_phenotype(genotype):\n",
    "    return [CITIES.at[city, 'name'] for city in genotype]\n",
    "\n",
    "def random_genotype():\n",
    "    return np.random.permutation(len(CITIES))\n",
    "\n",
    "#MUTATION FUNCTIONS\n",
    "\n",
    "def single_swap_mutation(genotype):\n",
    "    i, j = np.random.choice(len(genotype), 2, replace=False)\n",
    "    genotype[i], genotype[j] = genotype[j], genotype[i]\n",
    "    return genotype\n",
    "\n",
    "def multi_swap_mutation(genotype, p):\n",
    "    first = True\n",
    "    if first or np.random.rand() < p:\n",
    "        i, j = np.random.choice(len(genotype), 2, replace=False)\n",
    "        genotype[i], genotype[j] = genotype[j], genotype[i]\n",
    "        first = False\n",
    "    return genotype\n"
   ]
  },
  {
   "cell_type": "code",
   "execution_count": null,
   "metadata": {},
   "outputs": [],
   "source": []
  }
 ],
 "metadata": {
  "kernelspec": {
   "display_name": "ci-QFw0xGYb-py3.12",
   "language": "python",
   "name": "python3"
  },
  "language_info": {
   "codemirror_mode": {
    "name": "ipython",
    "version": 3
   },
   "file_extension": ".py",
   "mimetype": "text/x-python",
   "name": "python",
   "nbconvert_exporter": "python",
   "pygments_lexer": "ipython3",
   "version": "3.12.2"
  }
 },
 "nbformat": 4,
 "nbformat_minor": 2
}
