{
 "cells": [
  {
   "cell_type": "markdown",
   "metadata": {
    "vscode": {
     "languageId": "plaintext"
    }
   },
   "source": [
    "Copyright **`(c)`** 2024 Giovanni Squillero `<giovanni.squillero@polito.it>`  \n",
    "[`https://github.com/squillero/computational-intelligence`](https://github.com/squillero/computational-intelligence)  \n",
    "Free under certain conditions — see the [`license`](https://github.com/squillero/computational-intelligence/blob/master/LICENSE.md) for details.  "
   ]
  },
  {
   "cell_type": "code",
   "execution_count": 405,
   "metadata": {},
   "outputs": [],
   "source": [
    "import logging\n",
    "from itertools import combinations\n",
    "import pandas as pd\n",
    "import numpy as np\n",
    "from geopy.distance import geodesic\n",
    "import networkx as nx\n",
    "from tqdm import tqdm\n",
    "from icecream import ic\n",
    "\n",
    "logging.basicConfig(level=logging.DEBUG)"
   ]
  },
  {
   "cell_type": "code",
   "execution_count": 406,
   "metadata": {},
   "outputs": [
    {
     "data": {
      "text/html": [
       "<div>\n",
       "<style scoped>\n",
       "    .dataframe tbody tr th:only-of-type {\n",
       "        vertical-align: middle;\n",
       "    }\n",
       "\n",
       "    .dataframe tbody tr th {\n",
       "        vertical-align: top;\n",
       "    }\n",
       "\n",
       "    .dataframe thead th {\n",
       "        text-align: right;\n",
       "    }\n",
       "</style>\n",
       "<table border=\"1\" class=\"dataframe\">\n",
       "  <thead>\n",
       "    <tr style=\"text-align: right;\">\n",
       "      <th></th>\n",
       "      <th>name</th>\n",
       "      <th>lat</th>\n",
       "      <th>lon</th>\n",
       "    </tr>\n",
       "  </thead>\n",
       "  <tbody>\n",
       "    <tr>\n",
       "      <th>0</th>\n",
       "      <td>Ancona</td>\n",
       "      <td>43.60</td>\n",
       "      <td>13.50</td>\n",
       "    </tr>\n",
       "    <tr>\n",
       "      <th>1</th>\n",
       "      <td>Andria</td>\n",
       "      <td>41.23</td>\n",
       "      <td>16.29</td>\n",
       "    </tr>\n",
       "    <tr>\n",
       "      <th>2</th>\n",
       "      <td>Bari</td>\n",
       "      <td>41.12</td>\n",
       "      <td>16.87</td>\n",
       "    </tr>\n",
       "    <tr>\n",
       "      <th>3</th>\n",
       "      <td>Bergamo</td>\n",
       "      <td>45.70</td>\n",
       "      <td>9.67</td>\n",
       "    </tr>\n",
       "    <tr>\n",
       "      <th>4</th>\n",
       "      <td>Bologna</td>\n",
       "      <td>44.50</td>\n",
       "      <td>11.34</td>\n",
       "    </tr>\n",
       "  </tbody>\n",
       "</table>\n",
       "</div>"
      ],
      "text/plain": [
       "      name    lat    lon\n",
       "0   Ancona  43.60  13.50\n",
       "1   Andria  41.23  16.29\n",
       "2     Bari  41.12  16.87\n",
       "3  Bergamo  45.70   9.67\n",
       "4  Bologna  44.50  11.34"
      ]
     },
     "execution_count": 406,
     "metadata": {},
     "output_type": "execute_result"
    }
   ],
   "source": [
    "CITIES = pd.read_csv('cities/italy.csv', header=None, names=['name', 'lat', 'lon'])\n",
    "DIST_MATRIX = np.zeros((len(CITIES), len(CITIES)))\n",
    "for c1, c2 in combinations(CITIES.itertuples(), 2):\n",
    "    DIST_MATRIX[c1.Index, c2.Index] = DIST_MATRIX[c2.Index, c1.Index] = geodesic(\n",
    "        (c1.lat, c1.lon), (c2.lat, c2.lon)\n",
    "    ).km\n",
    "CITIES.head()"
   ]
  },
  {
   "cell_type": "markdown",
   "metadata": {},
   "source": [
    "## Lab2 - TSP\n",
    "\n",
    "https://www.wolframcloud.com/obj/giovanni.squillero/Published/Lab2-tsp.nb"
   ]
  },
  {
   "cell_type": "code",
   "execution_count": 407,
   "metadata": {},
   "outputs": [],
   "source": [
    "def tsp_cost(tsp):\n",
    "    assert tsp[0] == tsp[-1]\n",
    "    assert set(tsp) == set(range(len(CITIES)))\n",
    "\n",
    "    tot_cost = 0\n",
    "    for c1, c2 in zip(tsp, tsp[1:]):\n",
    "        tot_cost += DIST_MATRIX[c1, c2]\n",
    "    return tot_cost"
   ]
  },
  {
   "cell_type": "markdown",
   "metadata": {},
   "source": [
    "## First Greedy Algorithm"
   ]
  },
  {
   "cell_type": "code",
   "execution_count": 408,
   "metadata": {},
   "outputs": [
    {
     "name": "stderr",
     "output_type": "stream",
     "text": [
      "DEBUG:root:step: Ancona -> Rimini (90.60km)\n",
      "DEBUG:root:step: Rimini -> Forlì (46.72km)\n",
      "DEBUG:root:step: Forlì -> Ravenna (26.46km)\n",
      "DEBUG:root:step: Ravenna -> Ferrara (66.67km)\n",
      "DEBUG:root:step: Ferrara -> Bologna (43.43km)\n",
      "DEBUG:root:step: Bologna -> Modena (37.29km)\n",
      "DEBUG:root:step: Modena -> Reggio nell'Emilia (23.94km)\n",
      "DEBUG:root:step: Reggio nell'Emilia -> Parma (26.94km)\n",
      "DEBUG:root:step: Parma -> Piacenza (57.65km)\n",
      "DEBUG:root:step: Piacenza -> Milan (60.65km)\n",
      "DEBUG:root:step: Milan -> Monza (14.51km)\n",
      "DEBUG:root:step: Monza -> Bergamo (33.92km)\n",
      "DEBUG:root:step: Bergamo -> Brescia (46.02km)\n",
      "DEBUG:root:step: Brescia -> Verona (61.42km)\n",
      "DEBUG:root:step: Verona -> Vicenza (44.70km)\n",
      "DEBUG:root:step: Vicenza -> Padua (30.13km)\n",
      "DEBUG:root:step: Padua -> Venice (36.07km)\n",
      "DEBUG:root:step: Venice -> Trieste (115.09km)\n",
      "DEBUG:root:step: Trieste -> Bolzano (209.68km)\n",
      "DEBUG:root:step: Bolzano -> Trento (49.94km)\n",
      "DEBUG:root:step: Trento -> Novara (206.69km)\n",
      "DEBUG:root:step: Novara -> Turin (84.46km)\n",
      "DEBUG:root:step: Turin -> Genoa (123.19km)\n",
      "DEBUG:root:step: Genoa -> Leghorn (146.37km)\n",
      "DEBUG:root:step: Leghorn -> Prato (74.02km)\n",
      "DEBUG:root:step: Prato -> Florence (17.17km)\n",
      "DEBUG:root:step: Florence -> Perugia (119.19km)\n",
      "DEBUG:root:step: Perugia -> Terni (63.64km)\n",
      "DEBUG:root:step: Terni -> Rome (76.54km)\n",
      "DEBUG:root:step: Rome -> Latina (56.84km)\n",
      "DEBUG:root:step: Latina -> Giugliano in Campania (124.45km)\n",
      "DEBUG:root:step: Giugliano in Campania -> Naples (11.15km)\n",
      "DEBUG:root:step: Naples -> Salerno (46.25km)\n",
      "DEBUG:root:step: Salerno -> Foggia (109.52km)\n",
      "DEBUG:root:step: Foggia -> Andria (67.42km)\n",
      "DEBUG:root:step: Andria -> Bari (50.18km)\n",
      "DEBUG:root:step: Bari -> Taranto (77.63km)\n",
      "DEBUG:root:step: Taranto -> Messina (293.02km)\n",
      "DEBUG:root:step: Messina -> Reggio di Calabria (12.48km)\n",
      "DEBUG:root:step: Reggio di Calabria -> Catania (84.28km)\n",
      "DEBUG:root:step: Catania -> Syracuse (51.23km)\n",
      "DEBUG:root:step: Syracuse -> Palermo (206.47km)\n",
      "DEBUG:root:step: Palermo -> Cagliari (390.28km)\n",
      "DEBUG:root:step: Cagliari -> Sassari (173.89km)\n",
      "DEBUG:root:step: Sassari -> Pescara (508.61km)\n",
      "DEBUG:root:step: Pescara -> Ancona (139.24km)\n",
      "INFO:root:result: Found a path of 46 steps, total length 4436.03km\n"
     ]
    }
   ],
   "source": [
    "visited = np.full(len(CITIES), False)\n",
    "dist = DIST_MATRIX.copy()\n",
    "city = 0\n",
    "visited[city] = True\n",
    "tsp = list()\n",
    "tsp.append(int(city))\n",
    "#FROM the starting city, that is the first city, we will find the closest city and add it to the path, iteratively\n",
    "# until all cities are visited\n",
    "while not np.all(visited):\n",
    "    dist[:, city] = np.inf\n",
    "    closest = np.argmin(dist[city])\n",
    "    logging.debug(\n",
    "        f\"step: {CITIES.at[city,'name']} -> {CITIES.at[closest,'name']} ({DIST_MATRIX[city,closest]:.2f}km)\"\n",
    "    )\n",
    "    visited[closest] = True\n",
    "    city = closest\n",
    "    tsp.append(int(city))\n",
    "logging.debug(\n",
    "    f\"step: {CITIES.at[tsp[-1],'name']} -> {CITIES.at[tsp[0],'name']} ({DIST_MATRIX[tsp[-1],tsp[0]]:.2f}km)\"\n",
    ")\n",
    "\n",
    "tsp_greedy1 = tsp.copy()\n",
    "\n",
    "tsp.append(tsp[0])\n",
    "\n",
    "\n",
    "logging.info(f\"result: Found a path of {len(tsp)-1} steps, total length {tsp_cost(tsp):.2f}km\")"
   ]
  },
  {
   "cell_type": "markdown",
   "metadata": {},
   "source": [
    "## Helper functions"
   ]
  },
  {
   "cell_type": "code",
   "execution_count": 409,
   "metadata": {},
   "outputs": [],
   "source": [
    "#GENOTYPE: a list of integers, each representing a city\n",
    "#PHENOTYPE: the path that visits all cities in the order specified by the genotype\n",
    "\n",
    "def genotype_to_phenotype(genotype):\n",
    "    return [CITIES.at[city, 'name'] for city in genotype]\n",
    "\n",
    "def random_genotype():\n",
    "    return np.random.permutation(len(CITIES))\n",
    "\n",
    "# NEW TSP COST FUNCTION, no need to check if the path is closed\n",
    "def tsp_cost(tsp):\n",
    "    assert set(tsp) == set(range(len(CITIES)))\n",
    "    #assert no duplicates\n",
    "    assert len(tsp) == len(set(tsp))\n",
    "    \n",
    "    tot_cost = 0\n",
    "    for c1, c2 in zip(tsp, tsp[1:]):\n",
    "        tot_cost += DIST_MATRIX[c1, c2]\n",
    "    tot_cost += DIST_MATRIX[tsp[-1], tsp[0]]\n",
    "    return tot_cost\n",
    "\n",
    "#MUTATION FUNCTIONS\n",
    "\n",
    "def single_swap_mutation(genotype):\n",
    "    i, j = np.random.choice(len(genotype), 2, replace=False)\n",
    "    genotype[i], genotype[j] = genotype[j], genotype[i]\n",
    "    return genotype\n",
    "\n",
    "def multi_swap_mutation(genotype, p=0.8):\n",
    "    first = True\n",
    "    if first or np.random.rand() < p:\n",
    "        i, j = np.random.choice(len(genotype), 2, replace=False)\n",
    "        genotype[i], genotype[j] = genotype[j], genotype[i]\n",
    "        first = False\n",
    "    return genotype\n",
    "\n",
    "def print_tsp(tsp, top_cost):\n",
    "    logging.info(f\"result: Found a path of {len(tsp)} steps, total length {top_cost:.2f}km\")\n",
    "\n",
    "    # Print path\n",
    "    for city, closest in zip(tsp, tsp[1:]):\n",
    "        logging.debug(\n",
    "            f\"step: {CITIES.at[city,'name']} -> {CITIES.at[closest,'name']} ({DIST_MATRIX[city,closest]:.2f}km)\"\n",
    "        )\n",
    "    logging.debug(\n",
    "        f\"step: {CITIES.at[tsp[-1],'name']} -> {CITIES.at[tsp[0],'name']} ({DIST_MATRIX[tsp[-1],tsp[0]]:.2f}km)\"\n",
    "    )\n",
    "\n",
    "#For Greedy2\n",
    "def arrange_segments(segments: list[tuple]) -> list[tuple]:\n",
    "    connections = {}\n",
    "    for u, v in segments:\n",
    "        connections.setdefault(u, []).append(v)\n",
    "        connections.setdefault(v, []).append(u)\n",
    "\n",
    "    ordered_segments = [segments[0]]\n",
    "    current = segments[0][1]\n",
    "\n",
    "    while len(ordered_segments) < len(segments):\n",
    "        next_city = connections[current].pop()\n",
    "        connections[next_city].remove(current)\n",
    "        ordered_segments.append((current, next_city))\n",
    "        current = next_city\n",
    "\n",
    "    return ordered_segments\n",
    "\n",
    "def segments_to_path(segments: list[tuple]) -> list[int]:\n",
    "    return [segment[0] for segment in segments]\n",
    "\n",
    "def finalize_segment_tsp(segments: list[tuple], degrees: list[int]) -> list[tuple]:\n",
    "    assert len(degrees) == len(CITIES), f\"len(degrees)={len(degrees)} != len(CITIES)={len(CITIES)}\"\n",
    "    assert all(degree > 0 for degree in degrees), f\"degrees={degrees} should be all > 0\"\n",
    "\n",
    "    endpoints = [index for index, degree in enumerate(degrees) if degree == 1]\n",
    "    assert len(endpoints) == 2, f\"len(endpoints)={len(endpoints)} != 2\"\n",
    "    segments.append((endpoints[0], endpoints[1]))\n",
    "\n",
    "    return segments\n",
    "\n",
    "    return tsp\n",
    "\n",
    "NSTEPS = 10000\n",
    "\n",
    "NSTEPS = 10000\n"
   ]
  },
  {
   "cell_type": "markdown",
   "metadata": {},
   "source": [
    "## Greedy 2 : Shortest segment"
   ]
  },
  {
   "cell_type": "code",
   "execution_count": 410,
   "metadata": {},
   "outputs": [],
   "source": [
    "# Create a list of all possible city pairs with their distances\n",
    "city_pairs = list(combinations(range(len(CITIES)), 2))\n",
    "city_pairs = [((i, j), DIST_MATRIX[i, j]) for i, j in city_pairs]\n",
    "\n",
    "# Initialize the union-find structure and other variables\n",
    "union_find = nx.utils.UnionFind()\n",
    "tour = []\n",
    "city_degrees = [0] * len(CITIES)\n",
    "\n",
    "# Flag to check if all segments are processed\n",
    "segments_processed = False\n",
    "while not segments_processed:\n",
    "    # Find and remove the shortest segment\n",
    "    shortest_segment = min(city_pairs, key=lambda x: x[1])\n",
    "    city_pairs.remove(shortest_segment)\n",
    "    shortest_segment = shortest_segment[0]\n",
    "\n",
    "    # Check if the cities are in different sets and have less than 2 connections\n",
    "    different_sets = union_find[shortest_segment[0]] != union_find[shortest_segment[1]]\n",
    "    less_than_two_connections = city_degrees[shortest_segment[0]] < 2 and city_degrees[shortest_segment[1]] < 2\n",
    "    if different_sets and less_than_two_connections:\n",
    "        # Union the sets and add the segment to the tour\n",
    "        union_find.union(*shortest_segment)\n",
    "        tour.append(shortest_segment)\n",
    "        # Update the degrees of the cities\n",
    "        city_degrees[shortest_segment[0]] += 1\n",
    "        city_degrees[shortest_segment[1]] += 1\n",
    "\n",
    "    segments_processed = len(city_pairs) == 0\n",
    "\n",
    "# Finalize the tour by closing the cycle and arranging the segments\n",
    "tour = finalize_segment_tsp(tour, city_degrees)\n",
    "tour = arrange_segments(tour)\n",
    "\n",
    "# Convert the segments to a list of cities and calculate the total cost\n",
    "tour = segments_to_path(tour)\n",
    "total_cost = tsp_cost(tour)\n",
    "tsp_greedy2 = tour.copy()\n"
   ]
  },
  {
   "cell_type": "markdown",
   "metadata": {},
   "source": [
    "Christofied algorithm"
   ]
  },
  {
   "cell_type": "markdown",
   "metadata": {},
   "source": [
    "## Hill Climbing with Mutation and Simulated Annealing\n"
   ]
  },
  {
   "cell_type": "markdown",
   "metadata": {},
   "source": [
    "Simulated Annealing"
   ]
  },
  {
   "cell_type": "code",
   "execution_count": null,
   "metadata": {},
   "outputs": [],
   "source": [
    "def simulated_annealing(solution, full_history, bettering_history, NSTEPS, mutation_prob):\n",
    "    tweak = multi_swap_mutation\n",
    "    top_cost = -tsp_cost(solution)\n",
    "    last_bettering = 0\n",
    "    top_solution = solution.copy()\n",
    "    for _ in range(int(NSTEPS)):\n",
    "        new_solution = tweak(solution.copy(),mutation_prob)\n",
    "        new_cost = tsp_cost(new_solution)\n",
    "        current_cost = tsp_cost(solution)\n",
    "        full_history.append(-new_cost)\n",
    "        \n",
    "        #if solution is better, accept it\n",
    "        if new_cost < current_cost:\n",
    "            solution = new_solution\n",
    "            bettering_history.append(-new_cost)\n",
    "        #else, accept it with a certain probability\n",
    "        else:\n",
    "            temperature = max(0.01, 1 - len(full_history) / NSTEPS)\n",
    "            acceptance_probability = np.exp((current_cost - new_cost) / temperature)\n",
    "            if acceptance_probability > np.random.rand():\n",
    "                #Save last solution that was better than the current one\n",
    "                top_cost = -tsp_cost(solution)\n",
    "                top_solution = solution.copy()\n",
    "                solution = new_solution\n",
    "        \n",
    "        bettering_history.append(-tsp_cost(solution))\n",
    "        \n",
    "    if top_cost < -tsp_cost(solution):\n",
    "        top_solution = solution.copy()\n",
    "        top_cost = -tsp_cost(solution)\n",
    "    \n",
    "    \n",
    "    return full_history, bettering_history, top_cost, last_bettering, top_solution"
   ]
  },
  {
   "cell_type": "markdown",
   "metadata": {},
   "source": [
    "Plotting Function"
   ]
  },
  {
   "cell_type": "code",
   "execution_count": 412,
   "metadata": {},
   "outputs": [],
   "source": [
    "def plot_history(history, bettering_history, labels: list):\n",
    "    import matplotlib.pyplot as plt\n",
    "    fig, ax = plt.subplots()\n",
    "    ax.plot(history, label=labels[0])\n",
    "    ax.plot(bettering_history, label=labels[1])\n",
    "    ax.set_xlabel(\"Iteration\")\n",
    "    ax.set_ylabel(\"Cost\")\n",
    "    ax.legend()\n",
    "    plt.show()\n",
    "    \n"
   ]
  },
  {
   "cell_type": "markdown",
   "metadata": {},
   "source": [
    "## Genetic Algorithm\n"
   ]
  },
  {
   "cell_type": "code",
   "execution_count": 413,
   "metadata": {},
   "outputs": [],
   "source": [
    "def inver_over_crossover(parent1: np.ndarray, parent2: np.ndarray):\n",
    "    child = []\n",
    "    n = len(parent1)\n",
    "    visited = set()\n",
    "    \n",
    "    # Select a random starting index in parent1\n",
    "    start = np.random.randint(0, n - 1)\n",
    "    child.append(int(parent1[start]))\n",
    "    visited.add(int(parent1[start]))\n",
    "    # Find the corresponding city in parent2 and select the next one\n",
    "    idx2 = np.where(parent2 == parent1[start])[0][0]\n",
    "    idx2 = (idx2 + 1) % n\n",
    "    child.append(int(parent2[idx2]))\n",
    "    visited.add(int(parent2[idx2]))\n",
    "    # Find index of parent2[idx2] in parent1\n",
    "    idx1 = np.where(parent1 == parent2[idx2])[0][0]\n",
    "    # Preserve edge of the first parent => meaning from parent1[idx1] to parent1[start]\n",
    "    #  but inverse order of the cities\n",
    "    index = ( idx1 + 1 ) % n\n",
    "    idx1 = (idx1 - 1) % n\n",
    "    while parent1[idx1] not in visited:\n",
    "        child.append(int(parent1[idx1]))\n",
    "        visited.add(int(parent1[idx1]))\n",
    "        idx1 = (idx1 - 1) % n\n",
    "    \n",
    "    # Complete set of cities, preserving parent1\n",
    "    while parent1[index] not in visited:\n",
    "        child.append(int(parent1[index]))\n",
    "        visited.add(int(parent1[index]))\n",
    "        index = (index + 1) % n\n",
    "\n",
    "    assert len(child) == n\n",
    "    assert set(child) == set(range(n))\n",
    "\n",
    "    #Return the child as a numpy array\n",
    "    return np.array(child)"
   ]
  },
  {
   "cell_type": "code",
   "execution_count": 414,
   "metadata": {},
   "outputs": [
    {
     "data": {
      "text/plain": [
       "'\\nparent1 = random_genotype()\\nparent2 = random_genotype()\\nchild = inver_over_crossover(parent1, parent2)\\n'"
      ]
     },
     "execution_count": 414,
     "metadata": {},
     "output_type": "execute_result"
    }
   ],
   "source": [
    "#try inver over crossover\n",
    "\"\"\"\n",
    "parent1 = random_genotype()\n",
    "parent2 = random_genotype()\n",
    "child = inver_over_crossover(parent1, parent2)\n",
    "\"\"\""
   ]
  },
  {
   "cell_type": "markdown",
   "metadata": {},
   "source": [
    "Generational (population_size, population_size+1or2, population_size)"
   ]
  },
  {
   "cell_type": "code",
   "execution_count": 415,
   "metadata": {},
   "outputs": [],
   "source": [
    "\n",
    "def genetic_algorithm(NSTEPS, population_size, starting_solution):\n",
    "    population = []\n",
    "    if(starting_solution is not None):\n",
    "        population.append(starting_solution)\n",
    "        for _ in range(population_size):\n",
    "            temp = starting_solution.copy()\n",
    "            population.append(single_swap_mutation(temp))\n",
    "    else:\n",
    "        population = [random_genotype() for _ in range(population_size)]\n",
    "    \n",
    "\n",
    "    top_cost = tsp_cost(min(population, key=tsp_cost))\n",
    "    last_bettering = 0\n",
    "    print(\"Starting best cost: \", top_cost)\n",
    "    last_bettering = 0\n",
    "    genetic_operator = [multi_swap_mutation, inver_over_crossover]\n",
    "    for step in tqdm(range(NSTEPS)):\n",
    "        # Adjust mutation and crossover probabilities\n",
    "        if step - last_bettering > NSTEPS / 10:\n",
    "            mutation_prob = 0.9\n",
    "            crossover_prob = 0.1\n",
    "        else:\n",
    "            mutation_prob = 0.1\n",
    "            crossover_prob = 0.9\n",
    "\n",
    "        # Choose the genetic operator\n",
    "        operator = np.random.choice(genetic_operator, p=[mutation_prob, crossover_prob])\n",
    "\n",
    "        # Select the correct number of parents (1 parent for mutation, 2 parents for crossover)\n",
    "        if operator == multi_swap_mutation:\n",
    "            nparents = 1\n",
    "        else:\n",
    "            nparents = 2\n",
    "\n",
    "        # Parent selection (Tournament selection)\n",
    "        parents = []\n",
    "        for _ in range(nparents):\n",
    "            tournament_indices = np.random.choice(len(population), 10, replace=False)\n",
    "            tournament = [np.copy(population[i]) for i in tournament_indices]\n",
    "            best = min(tournament, key=tsp_cost)\n",
    "            parents.append(best)\n",
    "\n",
    "        # Generate offspring\n",
    "        if operator == multi_swap_mutation:\n",
    "            # 10 mutated versions of the parent\n",
    "            offspring = [operator(parents[0].copy()) for _ in range(10)]\n",
    "            population.extend(offspring)\n",
    "        else:\n",
    "            offspring = operator(*parents)\n",
    "            population.append(offspring)  # Add to population\n",
    "\n",
    "        # Survivor selection (deterministic replacement)\n",
    "        population = sorted(population, key=tsp_cost)[:population_size]\n",
    "\n",
    "        # Update best cost\n",
    "        top_cost = tsp_cost(population[0])\n",
    "\n",
    "        # Update last bettering\n",
    "        if top_cost < last_bettering:\n",
    "            last_bettering = step\n",
    "    top_cost = min(tsp_cost(ind) for ind in population)\n",
    "    tsp = min(population, key=tsp_cost)    \n",
    "\n",
    "    return tsp, top_cost, last_bettering"
   ]
  },
  {
   "cell_type": "code",
   "execution_count": 416,
   "metadata": {},
   "outputs": [
    {
     "name": "stdout",
     "output_type": "stream",
     "text": [
      "Starting best cost:  15259.32585798163\n"
     ]
    },
    {
     "name": "stderr",
     "output_type": "stream",
     "text": [
      "100%|██████████| 10000/10000 [00:45<00:00, 219.50it/s]\n",
      "INFO:root:result: Found a path of 46 steps, total length 4949.89km\n",
      "DEBUG:root:step: Palermo -> Cagliari (390.28km)\n",
      "DEBUG:root:step: Cagliari -> Sassari (173.89km)\n",
      "DEBUG:root:step: Sassari -> Taranto (734.86km)\n",
      "DEBUG:root:step: Taranto -> Bari (77.63km)\n",
      "DEBUG:root:step: Bari -> Andria (50.18km)\n",
      "DEBUG:root:step: Andria -> Foggia (67.42km)\n",
      "DEBUG:root:step: Foggia -> Pescara (156.30km)\n",
      "DEBUG:root:step: Pescara -> Ancona (139.24km)\n",
      "DEBUG:root:step: Ancona -> Rimini (90.60km)\n",
      "DEBUG:root:step: Rimini -> Forlì (46.72km)\n",
      "DEBUG:root:step: Forlì -> Ravenna (26.46km)\n",
      "DEBUG:root:step: Ravenna -> Ferrara (66.67km)\n",
      "DEBUG:root:step: Ferrara -> Trieste (191.98km)\n",
      "DEBUG:root:step: Trieste -> Venice (115.09km)\n",
      "DEBUG:root:step: Venice -> Padua (36.07km)\n",
      "DEBUG:root:step: Padua -> Vicenza (30.13km)\n",
      "DEBUG:root:step: Vicenza -> Trento (67.35km)\n",
      "DEBUG:root:step: Trento -> Bolzano (49.94km)\n",
      "DEBUG:root:step: Bolzano -> Bergamo (157.42km)\n",
      "DEBUG:root:step: Bergamo -> Monza (33.92km)\n",
      "DEBUG:root:step: Monza -> Milan (14.51km)\n",
      "DEBUG:root:step: Milan -> Novara (43.07km)\n",
      "DEBUG:root:step: Novara -> Turin (84.46km)\n",
      "DEBUG:root:step: Turin -> Genoa (123.19km)\n",
      "DEBUG:root:step: Genoa -> Leghorn (146.37km)\n",
      "DEBUG:root:step: Leghorn -> Florence (80.01km)\n",
      "DEBUG:root:step: Florence -> Prato (17.17km)\n",
      "DEBUG:root:step: Prato -> Parma (119.25km)\n",
      "DEBUG:root:step: Parma -> Piacenza (57.65km)\n",
      "DEBUG:root:step: Piacenza -> Brescia (68.99km)\n",
      "DEBUG:root:step: Brescia -> Verona (61.42km)\n",
      "DEBUG:root:step: Verona -> Reggio nell'Emilia (85.94km)\n",
      "DEBUG:root:step: Reggio nell'Emilia -> Modena (23.94km)\n",
      "DEBUG:root:step: Modena -> Bologna (37.29km)\n",
      "DEBUG:root:step: Bologna -> Perugia (176.04km)\n",
      "DEBUG:root:step: Perugia -> Terni (63.64km)\n",
      "DEBUG:root:step: Terni -> Rome (76.54km)\n",
      "DEBUG:root:step: Rome -> Latina (56.84km)\n",
      "DEBUG:root:step: Latina -> Giugliano in Campania (124.45km)\n",
      "DEBUG:root:step: Giugliano in Campania -> Naples (11.15km)\n",
      "DEBUG:root:step: Naples -> Salerno (46.25km)\n",
      "DEBUG:root:step: Salerno -> Catania (354.05km)\n",
      "DEBUG:root:step: Catania -> Syracuse (51.23km)\n",
      "DEBUG:root:step: Syracuse -> Reggio di Calabria (119.73km)\n",
      "DEBUG:root:step: Reggio di Calabria -> Messina (12.48km)\n",
      "DEBUG:root:step: Messina -> Palermo (192.10km)\n"
     ]
    }
   ],
   "source": [
    "#Run the genetic algorithm\n",
    "tsp, top_cost, last_bettering = genetic_algorithm(10000, 100, None)\n",
    "print_tsp(tsp, top_cost)\n"
   ]
  },
  {
   "cell_type": "code",
   "execution_count": null,
   "metadata": {},
   "outputs": [
    {
     "name": "stdout",
     "output_type": "stream",
     "text": [
      " SIMULATED ANNEALING \n"
     ]
    },
    {
     "ename": "AttributeError",
     "evalue": "'numpy.ndarray' object has no attribute 'pop'",
     "output_type": "error",
     "traceback": [
      "\u001b[1;31m---------------------------------------------------------------------------\u001b[0m",
      "\u001b[1;31mAttributeError\u001b[0m                            Traceback (most recent call last)",
      "Cell \u001b[1;32mIn[417], line 3\u001b[0m\n\u001b[0;32m      1\u001b[0m \u001b[38;5;66;03m#Run the simulated annealing\u001b[39;00m\n\u001b[0;32m      2\u001b[0m \u001b[38;5;28mprint\u001b[39m(\u001b[38;5;124m\"\u001b[39m\u001b[38;5;124m SIMULATED ANNEALING \u001b[39m\u001b[38;5;124m\"\u001b[39m)\n\u001b[1;32m----> 3\u001b[0m full_history, bettering_history, top_cost, last_bettering \u001b[38;5;241m=\u001b[39m \u001b[43msimulated_annealing\u001b[49m\u001b[43m(\u001b[49m\u001b[43mrandom_genotype\u001b[49m\u001b[43m(\u001b[49m\u001b[43m)\u001b[49m\u001b[43m,\u001b[49m\u001b[43m \u001b[49m\u001b[43m[\u001b[49m\u001b[43m]\u001b[49m\u001b[43m,\u001b[49m\u001b[43m \u001b[49m\u001b[43m[\u001b[49m\u001b[43m]\u001b[49m\u001b[43m,\u001b[49m\u001b[43m \u001b[49m\u001b[38;5;241;43m10000\u001b[39;49m\u001b[43m,\u001b[49m\u001b[43m \u001b[49m\u001b[38;5;241;43m0.9\u001b[39;49m\u001b[43m)\u001b[49m\n\u001b[0;32m      4\u001b[0m plot_history(full_history, bettering_history, [\u001b[38;5;124m\"\u001b[39m\u001b[38;5;124mFull history\u001b[39m\u001b[38;5;124m\"\u001b[39m, \u001b[38;5;124m\"\u001b[39m\u001b[38;5;124mBettering history\u001b[39m\u001b[38;5;124m\"\u001b[39m])\n\u001b[0;32m      5\u001b[0m print_tsp(tsp, \u001b[38;5;241m-\u001b[39mtop_cost)\n",
      "Cell \u001b[1;32mIn[411], line 29\u001b[0m, in \u001b[0;36msimulated_annealing\u001b[1;34m(solution, full_history, bettering_history, NSTEPS, mutation_prob)\u001b[0m\n\u001b[0;32m     26\u001b[0m \u001b[38;5;28;01mif\u001b[39;00m top_cost \u001b[38;5;241m<\u001b[39m \u001b[38;5;241m-\u001b[39mtsp_cost(solution):\n\u001b[0;32m     27\u001b[0m     top_cost \u001b[38;5;241m=\u001b[39m \u001b[38;5;241m-\u001b[39mtsp_cost(solution)\n\u001b[1;32m---> 29\u001b[0m \u001b[43mtsp\u001b[49m\u001b[38;5;241;43m.\u001b[39;49m\u001b[43mpop\u001b[49m()\n\u001b[0;32m     30\u001b[0m \u001b[38;5;28;01mreturn\u001b[39;00m full_history, bettering_history, top_cost, last_bettering\n",
      "\u001b[1;31mAttributeError\u001b[0m: 'numpy.ndarray' object has no attribute 'pop'"
     ]
    }
   ],
   "source": [
    "#Run the simulated annealing\n",
    "print(\" SIMULATED ANNEALING \")\n",
    "full_history, bettering_history, top_cost, last_bettering, tsp = simulated_annealing(random_genotype(), [], [], 10000, 0.9)\n",
    "plot_history(full_history, bettering_history, [\"Full history\", \"Bettering history\"])\n",
    "print_tsp(tsp, -top_cost)"
   ]
  },
  {
   "cell_type": "code",
   "execution_count": null,
   "metadata": {},
   "outputs": [],
   "source": [
    "\n",
    "#Run Greedy2\n",
    "print_tsp(tsp_greedy2, tsp_cost(tsp_greedy2))"
   ]
  },
  {
   "cell_type": "markdown",
   "metadata": {},
   "source": []
  }
 ],
 "metadata": {
  "kernelspec": {
   "display_name": "ci-QFw0xGYb-py3.12",
   "language": "python",
   "name": "python3"
  },
  "language_info": {
   "codemirror_mode": {
    "name": "ipython",
    "version": 3
   },
   "file_extension": ".py",
   "mimetype": "text/x-python",
   "name": "python",
   "nbconvert_exporter": "python",
   "pygments_lexer": "ipython3",
   "version": "3.12.2"
  }
 },
 "nbformat": 4,
 "nbformat_minor": 2
}
